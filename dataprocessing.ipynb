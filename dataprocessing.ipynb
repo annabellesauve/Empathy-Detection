{
  "nbformat": 4,
  "nbformat_minor": 0,
  "metadata": {
    "colab": {
      "name": "dataprocessing.ipynb",
      "provenance": [],
      "authorship_tag": "ABX9TyNuDWWn7Arj6Q89RwFZfk+o",
      "include_colab_link": true
    },
    "kernelspec": {
      "name": "python3",
      "display_name": "Python 3"
    },
    "language_info": {
      "name": "python"
    }
  },
  "cells": [
    {
      "cell_type": "markdown",
      "metadata": {
        "id": "view-in-github",
        "colab_type": "text"
      },
      "source": [
        "<a href=\"https://colab.research.google.com/github/annabellesauve/Empathy-Detection/blob/main/dataprocessing.ipynb\" target=\"_parent\"><img src=\"https://colab.research.google.com/assets/colab-badge.svg\" alt=\"Open In Colab\"/></a>"
      ]
    },
    {
      "cell_type": "code",
      "metadata": {
        "colab": {
          "base_uri": "https://localhost:8080/"
        },
        "id": "rO0QZmixps5n",
        "outputId": "c203e9cd-77ab-46ba-d8cc-809296945a91"
      },
      "source": [
        "!pip install transformers"
      ],
      "execution_count": null,
      "outputs": [
        {
          "output_type": "stream",
          "name": "stdout",
          "text": [
            "Requirement already satisfied: transformers in /usr/local/lib/python3.7/dist-packages (4.11.3)\n",
            "Requirement already satisfied: packaging>=20.0 in /usr/local/lib/python3.7/dist-packages (from transformers) (21.0)\n",
            "Requirement already satisfied: requests in /usr/local/lib/python3.7/dist-packages (from transformers) (2.23.0)\n",
            "Requirement already satisfied: filelock in /usr/local/lib/python3.7/dist-packages (from transformers) (3.3.0)\n",
            "Requirement already satisfied: huggingface-hub>=0.0.17 in /usr/local/lib/python3.7/dist-packages (from transformers) (0.0.19)\n",
            "Requirement already satisfied: pyyaml>=5.1 in /usr/local/lib/python3.7/dist-packages (from transformers) (6.0)\n",
            "Requirement already satisfied: regex!=2019.12.17 in /usr/local/lib/python3.7/dist-packages (from transformers) (2019.12.20)\n",
            "Requirement already satisfied: importlib-metadata in /usr/local/lib/python3.7/dist-packages (from transformers) (4.8.1)\n",
            "Requirement already satisfied: tokenizers<0.11,>=0.10.1 in /usr/local/lib/python3.7/dist-packages (from transformers) (0.10.3)\n",
            "Requirement already satisfied: numpy>=1.17 in /usr/local/lib/python3.7/dist-packages (from transformers) (1.19.5)\n",
            "Requirement already satisfied: tqdm>=4.27 in /usr/local/lib/python3.7/dist-packages (from transformers) (4.62.3)\n",
            "Requirement already satisfied: sacremoses in /usr/local/lib/python3.7/dist-packages (from transformers) (0.0.46)\n",
            "Requirement already satisfied: typing-extensions in /usr/local/lib/python3.7/dist-packages (from huggingface-hub>=0.0.17->transformers) (3.7.4.3)\n",
            "Requirement already satisfied: pyparsing>=2.0.2 in /usr/local/lib/python3.7/dist-packages (from packaging>=20.0->transformers) (2.4.7)\n",
            "Requirement already satisfied: zipp>=0.5 in /usr/local/lib/python3.7/dist-packages (from importlib-metadata->transformers) (3.6.0)\n",
            "Requirement already satisfied: urllib3!=1.25.0,!=1.25.1,<1.26,>=1.21.1 in /usr/local/lib/python3.7/dist-packages (from requests->transformers) (1.24.3)\n",
            "Requirement already satisfied: idna<3,>=2.5 in /usr/local/lib/python3.7/dist-packages (from requests->transformers) (2.10)\n",
            "Requirement already satisfied: chardet<4,>=3.0.2 in /usr/local/lib/python3.7/dist-packages (from requests->transformers) (3.0.4)\n",
            "Requirement already satisfied: certifi>=2017.4.17 in /usr/local/lib/python3.7/dist-packages (from requests->transformers) (2021.5.30)\n",
            "Requirement already satisfied: click in /usr/local/lib/python3.7/dist-packages (from sacremoses->transformers) (7.1.2)\n",
            "Requirement already satisfied: six in /usr/local/lib/python3.7/dist-packages (from sacremoses->transformers) (1.15.0)\n",
            "Requirement already satisfied: joblib in /usr/local/lib/python3.7/dist-packages (from sacremoses->transformers) (1.0.1)\n"
          ]
        }
      ]
    },
    {
      "cell_type": "code",
      "metadata": {
        "id": "_BmgRBxCqafU"
      },
      "source": [
        "from transformers import RobertaTokenizer\n",
        "from google.colab import drive\n",
        "import codecs\n",
        "import csv\n",
        "import numpy as np\n",
        "import re\n",
        "\n",
        "\n"
      ],
      "execution_count": null,
      "outputs": []
    },
    {
      "cell_type": "code",
      "metadata": {
        "colab": {
          "base_uri": "https://localhost:8080/"
        },
        "id": "Ua_tXAsFUqMZ",
        "outputId": "c4c4ee31-b2ad-456d-e104-73dbb2eceb61"
      },
      "source": [
        "drive.mount(\"/content/gdrive\")"
      ],
      "execution_count": null,
      "outputs": [
        {
          "output_type": "stream",
          "name": "stdout",
          "text": [
            "Drive already mounted at /content/gdrive; to attempt to forcibly remount, call drive.mount(\"/content/gdrive\", force_remount=True).\n"
          ]
        }
      ]
    },
    {
      "cell_type": "code",
      "metadata": {
        "id": "bdMDBUbdVQTT",
        "colab": {
          "base_uri": "https://localhost:8080/"
        },
        "outputId": "b126b706-1a5f-4ec8-ad21-5880d22f2894"
      },
      "source": [
        "\n",
        "input_file = codecs.open('/content/gdrive/My Drive/empathy_dataset/emotional-reactions-reddit.csv', 'r', 'utf-8')\n",
        "output_file = codecs.open('/content/gdrive/My Drive/empathy_dataset/edited_emotionalreactions.csv', 'w', 'utf-8')\n",
        "csv_reader = csv.reader(input_file, delimiter = ',', quotechar='\"')\n",
        "csv_writer = csv.writer(output_file, delimiter = ',',quotechar='\"') \n",
        "\n",
        "next(csv_reader, None) # skip the headerprint(csv_reader)\n",
        "csv_writer.writerow([\"id\",\"seeker_post\",\"response_post\",\"level\",\"rationale_labels\",\"rationale_labels_trimmed\",\"response_post_masked\"])\n",
        "tokenizer = RobertaTokenizer.from_pretrained('roberta-base', do_lower_case=True)\n",
        "for row in csv_reader:\n",
        "\t# sp_id,rp_id,seeker_post,response_post,level,rationales\n",
        "\n",
        "\tseeker_post = row[2].strip()\n",
        "\tresponse = row[3].strip()\n",
        "\n",
        "\tresponse_masked = response\n",
        "\n",
        "\tresponse_tokenized = tokenizer.decode(tokenizer.encode_plus(response, add_special_tokens = True, max_length = 64, pad_to_max_length = True)['input_ids'], clean_up_tokenization_spaces=False)\n",
        "\n",
        "\tresponse_tokenized_non_padded = tokenizer.decode(tokenizer.encode_plus(response, add_special_tokens = True, max_length = 64, pad_to_max_length = False)['input_ids'], clean_up_tokenization_spaces=False)\n",
        "\n",
        "\tresponse_words = tokenizer.tokenize(response_tokenized)\n",
        "\tresponse_non_padded_words = tokenizer.tokenize(response_tokenized_non_padded)\n",
        "\n",
        "\tif len(response_words) != 64:\n",
        "    \t\t  continue\n",
        "\n",
        "\tresponse_words_position = np.zeros((len(response),), dtype=np.int32)\n",
        "\n",
        "\trationales = row[5].strip().split('|')\n",
        "\n",
        "\trationale_labels = np.zeros((len(response_words),), dtype=np.int32)\n",
        "\n",
        "\n",
        "\tcurr_position = 0\n",
        "\tfor idx in range(len(response_words)):\n",
        "\t\tcurr_word = response_words[idx]\n",
        "\t\tif curr_word.startswith('Ġ'):\n",
        "    \t\t    curr_word = curr_word[1:]\n",
        "\t\tresponse_words_position[curr_position: curr_position+len(curr_word)+1] = idx\n",
        "\t\tcurr_position += len(curr_word)+1\n",
        "\n",
        "    \n",
        "\tif len(rationales) == 0 or row[5].strip() == '':\n",
        "    \t\trationale_labels[1:len(response_non_padded_words)] = 1\n",
        "    \t\tresponse_masked = ''\n",
        "\tfor r in rationales:\n",
        "    \t\tif r == '':\n",
        "    \t\t    continue\n",
        "    \t\ttry:\n",
        "    \t\t    r_tokenizer = tokenizer.decode(tokenizer.encode(r, add_special_tokens = False))\n",
        "    \t\t    match = re.search(r_tokenizer , response_tokenized)\n",
        "\n",
        "    \t\t    curr_match = response_words_position[match.start(0):match.start(0)+len(r_tokenizer)]\n",
        "    \t\t    curr_match = list(set(curr_match))\n",
        "    \t\t    curr_match.sort()\n",
        "\n",
        "    \t\t    response_masked = response_masked.replace(r, ' ')\n",
        "    \t\t    response_masked = re.sub(r' +', ' ', response_masked)\n",
        "\n",
        "    \t\t    rationale_labels[curr_match] = 1\n",
        "    \t\texcept:\n",
        "    \t\t    continue\n",
        "    \n",
        "    \n",
        "    \n",
        "\trationale_labels_str = ','.join(str(x) for x in rationale_labels)\n",
        "\n",
        "\trationale_labels_str_trimmed = ','.join(str(x) for x in rationale_labels[1:len(response_non_padded_words)])\n",
        "\n",
        "\n",
        "\tcsv_writer.writerow([row[0] + '_' + row[1], seeker_post, response, row[4], rationale_labels_str, len(rationale_labels_str_trimmed), response_masked])\n",
        "\n",
        "\n",
        "input_file.close()\n",
        "output_file.close()\n",
        "  \n",
        "\n",
        "\n",
        "\n",
        "\n"
      ],
      "execution_count": null,
      "outputs": [
        {
          "output_type": "stream",
          "name": "stderr",
          "text": [
            "Truncation was not explicitly activated but `max_length` is provided a specific value, please use `truncation=True` to explicitly truncate examples to max length. Defaulting to 'longest_first' truncation strategy. If you encode pairs of sequences (GLUE-style) with the tokenizer you can select this strategy more precisely by providing a specific strategy to `truncation`.\n",
            "/usr/local/lib/python3.7/dist-packages/transformers/tokenization_utils_base.py:2217: FutureWarning: The `pad_to_max_length` argument is deprecated and will be removed in a future version, use `padding=True` or `padding='longest'` to pad to the longest sequence in the batch, or use `padding='max_length'` to pad to a max length. In this case, you can give a specific length with `max_length` (e.g. `max_length=45`) or leave max_length to None to pad to the maximal input size of the model (e.g. 512 for Bert).\n",
            "  FutureWarning,\n"
          ]
        }
      ]
    }
  ]
}